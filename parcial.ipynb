{
 "cells": [
  {
   "cell_type": "markdown",
   "metadata": {},
   "source": [
    "# Primer parcial de Taller de lenguaje de programación III: Python para Ciencia de Datos \n",
    "\n"
   ]
  },
  {
   "cell_type": "markdown",
   "metadata": {},
   "source": [
    "## 1. Algoritmia\n",
    "\n",
    "- **Consigna**:\n",
    "Estás trabajando en un programa que procesa listas, pero te enfrentas al desafío de\n",
    "eliminar los elementos duplicados de una lista, manteniendo el orden original.\n",
    "\n",
    "**Especificaciones de la Función**:\n",
    "Nombre de la función:\n",
    "- El nombre de la función debe ser: eliminar_duplicados\n",
    "*Parámetros*:\n",
    "    - lista (list): Una lista que puede contener elementos duplicados.\n",
    "\n",
    "*Retorno*:\n",
    "- list: Una nueva lista que contiene los elementos de la lista original sin\n",
    "duplicados, conservando el orden original.\n",
    "\n",
    "**Ejemplo**\n",
    "- La función eliminar_duplicados toma la lista [1, 2, 3, 4, 4, 5, 6, 6, 7] como\n",
    "entrada y devuelve una nueva lista [1, 2, 3, 4, 5, 6, 7] sin elementos duplicados,\n",
    "manteniendo el orden original."
   ]
  },
  {
   "cell_type": "code",
   "execution_count": 10,
   "metadata": {},
   "outputs": [],
   "source": [
    "def eliminar_duplicados(lista: list) -> list:\n",
    "    \"\"\"\n",
    "        Retorna una nueva lista con los elementos de `lista`, eliminando sus duplicados\n",
    "        y manteniendo el orden original.\n",
    "\n",
    "        :param lista La lista cuyos duplicados obviar\n",
    "        :type list\n",
    "\n",
    "        :returns Una nueva lista sin duplicados\n",
    "        :rtype list\n",
    "    \"\"\"\n",
    "    # Creamos una lista nueva que retornaremos \n",
    "    sin_duplicados = []\n",
    "    # Creamos un conjunto para conocer qué elementos ya encontramos\n",
    "    encontrados = set()\n",
    "\n",
    "    # Por cada elemento en la lista...\n",
    "    for elem in lista:\n",
    "        # ..si ya no lo hemos encontrado...\n",
    "        if elem not in encontrados:\n",
    "            # ...lo agregamos a la nueva lista\n",
    "            sin_duplicados.append(elem)\n",
    "            # ... y al conjunto\n",
    "            encontrados.add(elem)\n",
    "\n",
    "    # Puesto que recorrimos la lista en orden, `sin_duplicados` \n",
    "    # también conserva el mismo orden.\n",
    "    return sin_duplicados\n",
    "\n",
    "assert eliminar_duplicados([1, 2, 3, 4, 4, 5, 6, 6, 7]) == [\n",
    "    1, 2, 3, 4, 5, 6, 7], \"El retorno de `eliminar_duplicados` no fue el esperado\""
   ]
  },
  {
   "cell_type": "markdown",
   "metadata": {},
   "source": [
    "## 2. Análisis estadístico"
   ]
  },
  {
   "cell_type": "markdown",
   "metadata": {},
   "source": [
    "Funciones de utilidad"
   ]
  },
  {
   "cell_type": "code",
   "execution_count": 11,
   "metadata": {},
   "outputs": [],
   "source": [
    "# Formateo de caracteres\n",
    "def separate(char=\"==\", count = 20):\n",
    "    print(char * count)"
   ]
  },
  {
   "cell_type": "code",
   "execution_count": 12,
   "metadata": {},
   "outputs": [],
   "source": [
    "GRADES = [\n",
    "    {\"nombre\": \"Juan\", \"matematicas\": 85, \"ciencias\": 90,\n",
    "     \"historia\": 75},\n",
    "    {\"nombre\": \"María\", \"matematicas\": 70, \"ciencias\": 80,\n",
    "     \"historia\": 85},\n",
    "    {\"nombre\": \"Pedro\", \"matematicas\": 95, \"ciencias\": 75,\n",
    "     \"historia\": 90},\n",
    "    {\"nombre\": \"Ana\", \"matematicas\": 80, \"ciencias\": 85, \"historia\":\n",
    "     80},\n",
    "    {\"nombre\": \"Luis\", \"matematicas\": 75, \"ciencias\": 70,\n",
    "     \"historia\": 95},\n",
    "    {\"nombre\": \"Sofía\", \"matematicas\": 90, \"ciencias\": 85,\n",
    "     \"historia\": 75},\n",
    "    {\"nombre\": \"Carlos\", \"matematicas\": 85, \"ciencias\": 90,\n",
    "     \"historia\": 80},\n",
    "    {\"nombre\": \"Elena\", \"matematicas\": 70, \"ciencias\": 75,\n",
    "     \"historia\": 85},\n",
    "    {\"nombre\": \"Javier\", \"matematicas\": 80, \"ciencias\": 85,\n",
    "     \"historia\": 90},\n",
    "    {\"nombre\": \"Laura\", \"matematicas\": 75, \"ciencias\": 70,\n",
    "     \"historia\": 95},\n",
    "    {\"nombre\": \"Diego\", \"matematicas\": 90, \"ciencias\": 85,\n",
    "     \"historia\": 75},\n",
    "    {\"nombre\": \"Paula\", \"matematicas\": 85, \"ciencias\": 90,\n",
    "     \"historia\": 80},\n",
    "    {\"nombre\": \"Carmen\", \"matematicas\": 70, \"ciencias\": 75,\n",
    "     \"historia\": 85}\n",
    "]\n",
    "\n",
    "SUBJECTS = [\"matematicas\", \"ciencias\", \"historia\"]\n",
    "\n"
   ]
  },
  {
   "cell_type": "markdown",
   "metadata": {},
   "source": [
    "1. Cálculo de promedio de calificaciones\n",
    "\n",
    "- **Consigna**: Calcular el promedio de calificaciones para cada asignatura y mostrarlo."
   ]
  },
  {
   "cell_type": "code",
   "execution_count": 13,
   "metadata": {},
   "outputs": [],
   "source": [
    "import pandas as pd\n",
    "\n",
    "def average_of(data_frame: pd.DataFrame, columns: list[str]) -> pd.DataFrame:\n",
    "    \"\"\"\n",
    "        Toma un DataFrame cuyos elementos son números y, por cada columna,\n",
    "        calcula el promedio.\n",
    "\n",
    "        :param data_frame El DataFrame del cual calcular el promedio\n",
    "        :type pd.DataFrame\n",
    "\n",
    "        :param columns Las columnas de las que calcular el promedio\n",
    "        :type list[str]\n",
    "\n",
    "        :returns Un nuevo DataFrame donde las columnas originales son\n",
    "                 las filas, y hay una única columna \"average\",\n",
    "                 con el promedio de cada una.\n",
    "        :rtype pd.DataFrame\n",
    "    \"\"\"\n",
    "    # Creamos el DataFrame de promedios\n",
    "    avg_data_frame = pd.DataFrame()\n",
    "\n",
    "    # Por medio de mean() calculamos el promedio.\n",
    "    # La sintaxis data_frame[columns] permite sólo considerar\n",
    "    # las columnas que estén en el arreglo columns, evitando datos no numéricos.\n",
    "    # Véase: https://pandas.pydata.org/docs/user_guide/indexing.html#selection-by-label\n",
    "    avg_data_frame[\"average\"] = data_frame[columns].mean()\n",
    "\n",
    "    return avg_data_frame"
   ]
  },
  {
   "cell_type": "markdown",
   "metadata": {},
   "source": [
    "Usado en main como:\n",
    "```py\n",
    "average = average_of(grades_frame, columns=SUBJECTS)\n",
    "```"
   ]
  },
  {
   "cell_type": "markdown",
   "metadata": {},
   "source": [
    "2. Calificaciones más altas por asignatura\n",
    "\n",
    "- **Consigna**: Encuentra a los estudiantes que tienen las calificaciones más altas en cada\n",
    "asignatura y mostralos junto con sus respectivas calificaciones."
   ]
  },
  {
   "cell_type": "code",
   "execution_count": 14,
   "metadata": {},
   "outputs": [],
   "source": [
    "def top_students_for(grades: pd.DataFrame, *, subject: str) -> pd.DataFrame:\n",
    "    \"\"\"\n",
    "        Retorna un DataFrame con el mejor estudiante en `grades` para \n",
    "        la materia `subject`. \n",
    "\n",
    "        :param grades\n",
    "        :type pd.DataFrame\n",
    "\n",
    "        :param subject\n",
    "        :type str\n",
    "    \"\"\"\n",
    "    # Obtenemos la nota máxima para subject\n",
    "    top_student_grade = grades[subject].max()\n",
    "\n",
    "    # Filtramos las notas para sólo incluir los estudiantes\n",
    "    # con la nota máxima para esa materia.\n",
    "    top_students = grades[grades[subject] == top_student_grade]\n",
    "\n",
    "    # Incluimos sólo las columnas \"nombre\" y la materia.\n",
    "    top_students = top_students[[\"nombre\", subject]]\n",
    "\n",
    "    return top_students"
   ]
  },
  {
   "cell_type": "markdown",
   "metadata": {},
   "source": [
    "Usado en main como:\n",
    "```py\n",
    "# Mostramos los mejores alumnos en cada asignatura\n",
    "    for subject in SUBJECTS:\n",
    "        print(f\"Mejores alumnos para {subject}\")\n",
    "        print(top_students_for(grades_frame, subject=subject))\n",
    "        separate()\n",
    "```"
   ]
  },
  {
   "cell_type": "markdown",
   "metadata": {},
   "source": [
    "3. Calcular porcentaje de aprobación\n",
    "\n",
    "- **Consignas**: Calcular el porcentaje de estudiantes que aprobaron cada asignatura (con una calificación igual o superior a 60) y mostrar los resultados."
   ]
  },
  {
   "cell_type": "code",
   "execution_count": 15,
   "metadata": {},
   "outputs": [],
   "source": [
    "def calculate_passed_percentage(grades: pd.DataFrame, *, subjects: list[str]) -> pd.DataFrame:\n",
    "    \"\"\"\n",
    "        Calcula qué porcentaje de las notas en `grades` son mayores o iguales a 60\n",
    "        para cada una de las materias en `subjects`\n",
    "\n",
    "        :param grades Las calificaciones\n",
    "        :type pd.DataFrame\n",
    "\n",
    "        :param subjects Las materias correspondientes\n",
    "        :type list[str]\n",
    "\n",
    "        :returns Un DataFrame donde las materias están en una columna\n",
    "                 y el porcentaje en otra.\n",
    "        :rtype pd.DataFrame\n",
    "    \"\"\"\n",
    "    # Creamos un nuevo DataFrame para utilizar\n",
    "    passed_data_frame = pd.DataFrame()\n",
    "\n",
    "    # En `materias` ponemos los nombres de las columnas de `grades`\n",
    "    passed_data_frame[\"materias\"] = grades[subjects].columns\n",
    "\n",
    "    # Filtramos las notas que son mayores o iguales a 60\n",
    "    # y las contamos\n",
    "    passed_data_frame[\"aprobacion\"] = grades[subjects][grades[subjects] >= 60].index.size\n",
    "\n",
    "    # El total de alumnos\n",
    "    total_students = grades.index.size\n",
    "\n",
    "    # Convertimos la aprobación a porcentaje\n",
    "    passed_data_frame[\"aprobacion\"] = passed_data_frame[\"aprobacion\"] * 100 / total_students\n",
    "\n",
    "    return passed_data_frame"
   ]
  },
  {
   "cell_type": "markdown",
   "metadata": {},
   "source": [
    "Usado en `main` como:\n",
    "```py\n",
    "passed = calculate_passed_percentage(grades_frame, subjects=SUBJECTS)\n",
    "```"
   ]
  },
  {
   "cell_type": "markdown",
   "metadata": {},
   "source": [
    "4. Promedio por alumno\n",
    "\n",
    "- Crear un DataFrame que incluya dos columnas una para el nombre del estudiante y la otra para el promedio de las notas de las asignaturas."
   ]
  },
  {
   "cell_type": "code",
   "execution_count": 16,
   "metadata": {},
   "outputs": [],
   "source": [
    "def get_student_avg_grade(grades: pd.DataFrame, *, subjects: list[str]) -> pd.DataFrame:\n",
    "    \"\"\"\n",
    "        Toma una planilla de calificaciones y retorna un DataFrame con dos columnas.\n",
    "        \n",
    "        :param grades Las calificaciones de cada estudiante\n",
    "        :type pd.DataFrame\n",
    "\n",
    "        :returns Un DataFrame cuyas columnas son: El nombre del estudiante,\n",
    "                 y el promedio de su calificación en las materias\n",
    "        :rtype pd.DataFrame\n",
    "    \"\"\"\n",
    "    # Creamos un nuevo DataFrame\n",
    "    student_avg = pd.DataFrame()\n",
    "\n",
    "    # Obtenemos los nombres de alumnos\n",
    "    student_avg[\"nombre\"] = grades[\"nombre\"]\n",
    "\n",
    "    # Calculamos el promedio con .mean()\n",
    "    # Pero esta vez usamos el eje de las columnas\n",
    "    # Esto hará que por cada alumno calculemos el promedio de calificaciones\n",
    "    student_avg[\"promedio\"] = grades[subjects].mean(axis=1)\n",
    "\n",
    "    return student_avg"
   ]
  },
  {
   "cell_type": "markdown",
   "metadata": {},
   "source": [
    "Usado en `main` como:\n",
    "```py\n",
    "student_average = get_student_avg_grade(grades_frame, subjects=SUBJECTS)\n",
    "```"
   ]
  },
  {
   "cell_type": "markdown",
   "metadata": {},
   "source": [
    "**Código completo de `main`**:"
   ]
  },
  {
   "cell_type": "code",
   "execution_count": 17,
   "metadata": {},
   "outputs": [
    {
     "name": "stdout",
     "output_type": "stream",
     "text": [
      "========================================\n",
      "El promedio por materia es el siguiente: \n",
      "               average\n",
      "matematicas  80.769231\n",
      "ciencias     81.153846\n",
      "historia     83.846154\n",
      "========================================\n",
      "Mejores alumnos para matematicas\n",
      "  nombre  matematicas\n",
      "2  Pedro           95\n",
      "========================================\n",
      "Mejores alumnos para ciencias\n",
      "    nombre  ciencias\n",
      "0     Juan        90\n",
      "6   Carlos        90\n",
      "11   Paula        90\n",
      "========================================\n",
      "Mejores alumnos para historia\n",
      "  nombre  historia\n",
      "4   Luis        95\n",
      "9  Laura        95\n",
      "========================================\n",
      "El porcentaje de aprobación es el siguiente: \n",
      "      materias  aprobacion\n",
      "0  matematicas       100.0\n",
      "1     ciencias       100.0\n",
      "2     historia       100.0\n",
      "========================================\n",
      "Promedios de cada estudiante: \n",
      "    nombre   promedio\n",
      "0     Juan  83.333333\n",
      "1    María  78.333333\n",
      "2    Pedro  86.666667\n",
      "3      Ana  81.666667\n",
      "4     Luis  80.000000\n",
      "5    Sofía  83.333333\n",
      "6   Carlos  85.000000\n",
      "7    Elena  76.666667\n",
      "8   Javier  85.000000\n",
      "9    Laura  80.000000\n",
      "10   Diego  83.333333\n",
      "11   Paula  85.000000\n",
      "12  Carmen  76.666667\n"
     ]
    }
   ],
   "source": [
    "import pandas as pd\n",
    "def main():\n",
    "    \"\"\"\n",
    "        Realiza un análisis estadístico de las calificaciones de los estudiantes.\n",
    "    \"\"\"\n",
    "    if not isinstance(GRADES, list):\n",
    "        raise ValueError(\"Las calificaciones deben estar dispuestas en una lista.\")\n",
    "\n",
    "    for grade in GRADES:\n",
    "        if not isinstance(grade, dict):\n",
    "            raise ValueError(\"Las calificaciones deben ser diccionarios\")\n",
    "        elif \"nombre\" not in grade:\n",
    "            raise ValueError(\"Las calificaciones deben contar con el nombre del alumno\")\n",
    "\n",
    "    # Creamos un DataFrame para trabajar con los datos más cómodamente\n",
    "    grades_frame = pd.DataFrame(GRADES)\n",
    "\n",
    "    # Calculamos y mostramos el promedio de cada asignatura\n",
    "    average = average_of(grades_frame, columns=SUBJECTS)\n",
    "\n",
    "    separate()\n",
    "    print(f\"El promedio por materia es el siguiente: \")\n",
    "    print(average)\n",
    "    separate()\n",
    "\n",
    "    # Mostramos los mejores alumnos en cada asignatura\n",
    "    for subject in SUBJECTS:\n",
    "        print(f\"Mejores alumnos para {subject}\")\n",
    "        print(top_students_for(grades_frame, subject=subject))\n",
    "        separate()\n",
    "\n",
    "    passed = calculate_passed_percentage(grades_frame, subjects=SUBJECTS)\n",
    "    print(f\"El porcentaje de aprobación es el siguiente: \")\n",
    "    print(passed)\n",
    "    separate()\n",
    "\n",
    "    student_average = get_student_avg_grade(grades_frame, subjects=SUBJECTS)\n",
    "\n",
    "    print(\"Promedios de cada estudiante: \")\n",
    "    print(student_average)\n",
    "\n",
    "    return student_average\n",
    "\n",
    "\n",
    "if __name__ == \"__main__\":\n",
    "    main()"
   ]
  },
  {
   "cell_type": "markdown",
   "metadata": {},
   "source": [
    "## 3. Gráfico con `matplotlib`\n",
    "\n",
    "- **Consigna**: Basándote en el DataFrame creado. Utiliza un gráfico de barras donde el eje x represente los nombres de los estudiantes y el eje y represente el promedio de las calificaciones."
   ]
  },
  {
   "cell_type": "code",
   "execution_count": 18,
   "metadata": {},
   "outputs": [
    {
     "name": "stdout",
     "output_type": "stream",
     "text": [
      "    nombre   promedio\n",
      "0     Juan  83.333333\n",
      "1    María  78.333333\n",
      "2    Pedro  86.666667\n",
      "3      Ana  81.666667\n",
      "4     Luis  80.000000\n",
      "5    Sofía  83.333333\n",
      "6   Carlos  85.000000\n",
      "7    Elena  76.666667\n",
      "8   Javier  85.000000\n",
      "9    Laura  80.000000\n",
      "10   Diego  83.333333\n",
      "11   Paula  85.000000\n",
      "12  Carmen  76.666667\n"
     ]
    },
    {
     "data": {
      "image/png": "[encoded data removed]",
      "text/plain": [
       "<Figure size 640x480 with 1 Axes>"
      ]
     },
     "metadata": {},
     "output_type": "display_data"
    }
   ],
   "source": [
    "import pandas as pd\n",
    "import matplotlib.pyplot as plt\n",
    "import numpy as np\n",
    "\n",
    "# Construimos el DataFrame de las calificaciones\n",
    "grade_frame = pd.DataFrame(GRADES)\n",
    "# Obtenemos el promedio por estudiante con una función \n",
    "# ya implementada\n",
    "student_avg = get_student_avg_grade(grade_frame, subjects=SUBJECTS)\n",
    "\n",
    "# Mostramos los promedios por consola\n",
    "print(student_avg)\n",
    "\n",
    "# Creamos un gráfico de barra para el nombre y el promedio\n",
    "plt.bar(student_avg[\"nombre\"], student_avg[\"promedio\"])\n",
    "\n",
    "# Colocamos un título y etiquetas de ejes\n",
    "plt.title(\"Promedio de calificaciones por estudiante\")\n",
    "plt.xlabel(\"Estudiantes\")\n",
    "plt.ylabel(\"Promedio de calificaciones\")\n",
    "\n",
    "# Mostramos el gráfico\n",
    "plt.show()"
   ]
  }
 ],
 "metadata": {
  "kernelspec": {
   "display_name": ".env",
   "language": "python",
   "name": "python3"
  },
  "language_info": {
   "codemirror_mode": {
    "name": "ipython",
    "version": 3
   },
   "file_extension": ".py",
   "mimetype": "text/x-python",
   "name": "python",
   "nbconvert_exporter": "python",
   "pygments_lexer": "ipython3",
   "version": "3.11.2"
  }
 },
 "nbformat": 4,
 "nbformat_minor": 2
}
